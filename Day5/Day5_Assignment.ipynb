{
 "cells": [
  {
   "cell_type": "markdown",
   "metadata": {},
   "source": [
    "### Question 1 :\n",
    "Write a Python program to find the first 20 non-even prime natural numbers."
   ]
  },
  {
   "cell_type": "code",
   "execution_count": 135,
   "metadata": {},
   "outputs": [],
   "source": [
    "count=0\n",
    "n=100\n",
    "x= []\n",
    "for i in range(2,n+1):\n",
    "    if count<=20:\n",
    "\n",
    "        for j in range(2,i):\n",
    "            if i%j == 0:\n",
    "                break\n",
    "                \n",
    "        else:\n",
    "            x.append(i)\n",
    "            count+=1\n",
    "    else:\n",
    "        break\n"
   ]
  },
  {
   "cell_type": "code",
   "execution_count": 136,
   "metadata": {},
   "outputs": [
    {
     "data": {
      "text/plain": [
       "[3, 5, 7, 11, 13, 17, 19, 23, 29, 31, 37, 41, 43, 47, 53, 59, 61, 67, 71, 73]"
      ]
     },
     "execution_count": 136,
     "metadata": {},
     "output_type": "execute_result"
    }
   ],
   "source": [
    "for i in x:\n",
    "    if i%2 == 0:\n",
    "        x.remove(i)\n",
    "x"
   ]
  },
  {
   "cell_type": "markdown",
   "metadata": {},
   "source": [
    "### Question 2 :\n",
    "Write a Python program to implement 15 functions of string.\n"
   ]
  },
  {
   "cell_type": "code",
   "execution_count": 137,
   "metadata": {},
   "outputs": [],
   "source": [
    "x = 'safrfgfdhcAAAjghkjsdfe'"
   ]
  },
  {
   "cell_type": "code",
   "execution_count": 144,
   "metadata": {},
   "outputs": [
    {
     "name": "stdout",
     "output_type": "stream",
     "text": [
      "Safrfgfdhcaaajghkjsdfe\n",
      "safrfgfdhcaaajghkjsdfe\n",
      "4\n",
      "True\n",
      "10\n",
      "16\n",
      "True\n",
      "True\n",
      "False\n",
      "False\n",
      "False\n",
      "False\n",
      "False\n",
      "safrfgfdhcaaajghkjsdfe\n",
      "SAFRFGFDHCAAAJGHKJSDFE\n",
      "safrfgfdhcZZZjghkjsdfe\n",
      "['safrf', 'fdhcAAAj', 'hkjsdfe']\n",
      "SAFRFGFDHCaaaJGHKJSDFE\n"
     ]
    }
   ],
   "source": [
    "print(x.capitalize())\n",
    "print(x.casefold())\n",
    "print(x.count('f'))\n",
    "print(x.endswith('e'))\n",
    "print(x.find('A'))\n",
    "print(x.index('k'))\n",
    "print(x.isalnum())\n",
    "print(x.isalpha())\n",
    "print(x.isdecimal())\n",
    "print(x.isdigit())\n",
    "print(x.islower())\n",
    "print(x.isnumeric())\n",
    "print(x.isupper())\n",
    "print(x.lower())\n",
    "print(x.upper())\n",
    "print(x.replace('A','Z'))\n",
    "print(x.split('g'))\n",
    "print(x.swapcase())"
   ]
  },
  {
   "cell_type": "markdown",
   "metadata": {},
   "source": [
    "### Question 3:\n",
    "Write a Python program to check if the given string is a Palindrome or Anagram or None of them.\n",
    "Display the message accordingly to the user.\n"
   ]
  },
  {
   "cell_type": "code",
   "execution_count": 145,
   "metadata": {},
   "outputs": [],
   "source": [
    "def pali(x):\n",
    "\n",
    "    y=''\n",
    "    le=len(x)\n",
    "    for i in range(le-1,-1,-1):\n",
    "        y+=x[i]\n",
    "    if y == x:\n",
    "        return True\n",
    "    else :\n",
    "        return False"
   ]
  },
  {
   "cell_type": "code",
   "execution_count": 146,
   "metadata": {},
   "outputs": [],
   "source": [
    "def ana(str1,str2):\n",
    "    if (sorted(str1) == sorted(str2)):\n",
    "        return True\n",
    "    else:\n",
    "        return False\n",
    "    "
   ]
  },
  {
   "cell_type": "code",
   "execution_count": 147,
   "metadata": {},
   "outputs": [
    {
     "name": "stdout",
     "output_type": "stream",
     "text": [
      "india is not palindrome\n",
      "malayalam is palindrome\n",
      "india and malayalam are not anagram\n"
     ]
    }
   ],
   "source": [
    "string1 = \"india\"\n",
    "string2 = \"malayalam\"\n",
    "if pali(string1):\n",
    "    print(string1,\"is palindrome\")\n",
    "else:\n",
    "    print(string1,\"is not palindrome\")\n",
    "if pali(string2):\n",
    "    print(string2,\"is palindrome\")\n",
    "else:\n",
    "    print(string2,\"is not palindrome\")\n",
    "if ana(string1,string2):\n",
    "    print(string1,\"and\",string2,\"are anagram\")\n",
    "else:\n",
    "    print(string1,\"and\",string2,\"are not anagram\")\n",
    "    "
   ]
  },
  {
   "cell_type": "markdown",
   "metadata": {},
   "source": [
    "### Question 4:\n",
    "Write a Python's user defined function that removes all the additional characters from the string\n",
    "and converts it finally to lower case using built-in lower(). eg: If the string is \"Dr. Darshan Ingle\n",
    "@AI-ML Trainer\", then the output be \"drdarshaningleaimltrainer\""
   ]
  },
  {
   "cell_type": "code",
   "execution_count": 152,
   "metadata": {},
   "outputs": [],
   "source": [
    "def funct(a):\n",
    "    \n",
    "    b=''\n",
    "    for i in a:\n",
    "        if i.isalpha():\n",
    "            b+=i\n",
    "\n",
    "    return b.lower()\n",
    "    "
   ]
  },
  {
   "cell_type": "code",
   "execution_count": 153,
   "metadata": {},
   "outputs": [
    {
     "name": "stdout",
     "output_type": "stream",
     "text": [
      "drdarshaningleaimltrainer\n"
     ]
    }
   ],
   "source": [
    "print(funct(\"Dr. Darshan Ingle @AI-ML Trainer\"))"
   ]
  },
  {
   "cell_type": "code",
   "execution_count": null,
   "metadata": {},
   "outputs": [],
   "source": []
  }
 ],
 "metadata": {
  "kernelspec": {
   "display_name": "Python 3",
   "language": "python",
   "name": "python3"
  },
  "language_info": {
   "codemirror_mode": {
    "name": "ipython",
    "version": 3
   },
   "file_extension": ".py",
   "mimetype": "text/x-python",
   "name": "python",
   "nbconvert_exporter": "python",
   "pygments_lexer": "ipython3",
   "version": "3.7.4"
  }
 },
 "nbformat": 4,
 "nbformat_minor": 2
}
