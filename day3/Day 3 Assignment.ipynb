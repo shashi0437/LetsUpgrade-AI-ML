{
 "cells": [
  {
   "cell_type": "markdown",
   "metadata": {},
   "source": [
    "### Question 1 :\n",
    "Write a program to subtract two complex numbers in Python."
   ]
  },
  {
   "cell_type": "code",
   "execution_count": 1,
   "metadata": {},
   "outputs": [
    {
     "data": {
      "text/plain": [
       "(-1+2j)"
      ]
     },
     "execution_count": 1,
     "metadata": {},
     "output_type": "execute_result"
    }
   ],
   "source": [
    "a = 4+9j\n",
    "b= 5+7j\n",
    "diff = a -b\n",
    "diff"
   ]
  },
  {
   "cell_type": "markdown",
   "metadata": {},
   "source": [
    "### Question 2 :\n",
    "Write a program to find the fourth root of a number.\n"
   ]
  },
  {
   "cell_type": "code",
   "execution_count": 5,
   "metadata": {},
   "outputs": [
    {
     "data": {
      "text/plain": [
       "4.0"
      ]
     },
     "execution_count": 5,
     "metadata": {},
     "output_type": "execute_result"
    }
   ],
   "source": [
    "num = 256\n",
    "fourth_root = num**(1/4)\n",
    "fourth_root"
   ]
  },
  {
   "cell_type": "markdown",
   "metadata": {},
   "source": [
    "### Question 3:\n",
    "Write a program to swap two numbers in Python with the help of a temporary variable."
   ]
  },
  {
   "cell_type": "code",
   "execution_count": 7,
   "metadata": {},
   "outputs": [
    {
     "name": "stdout",
     "output_type": "stream",
     "text": [
      " Before swapping \n",
      " num1 = 4 \n",
      " num2 = 9\n",
      " After swapping \n",
      " num1 = 9 \n",
      " num2 = 4\n"
     ]
    }
   ],
   "source": [
    "num1 = 4\n",
    "num2 = 9\n",
    "temp = 0\n",
    "print(\" Before swapping \\n num1 =\",num1,\"\\n num2 =\",num2)\n",
    "temp = num1\n",
    "num1 = num2\n",
    "num2 = temp\n",
    "print(\" After swapping \\n num1 =\",num1,\"\\n num2 =\",num2)"
   ]
  },
  {
   "cell_type": "markdown",
   "metadata": {},
   "source": [
    "### Question 4:\n",
    "Write a program to swap two numbers in Python without using a temporary variable.\n"
   ]
  },
  {
   "cell_type": "code",
   "execution_count": 9,
   "metadata": {},
   "outputs": [
    {
     "name": "stdout",
     "output_type": "stream",
     "text": [
      " Before swapping \n",
      " num1 = 9 \n",
      " num2 = 4\n",
      " After swapping \n",
      " num1 = 4 \n",
      " num2 = 9\n"
     ]
    }
   ],
   "source": [
    "num1 = 9\n",
    "num2 = 4\n",
    "print(\" Before swapping \\n num1 =\",num1,\"\\n num2 =\",num2)\n",
    "\n",
    "num1 = num2 - num1\n",
    "num2 = num2 - num1\n",
    "num1 = num1 + num2\n",
    "print(\" After swapping \\n num1 =\",num1,\"\\n num2 =\",num2)"
   ]
  },
  {
   "cell_type": "markdown",
   "metadata": {},
   "source": [
    "### Question 5:\n",
    "Write a program to convert fahrenheit to kelvin and celsius both.\n"
   ]
  },
  {
   "cell_type": "code",
   "execution_count": 13,
   "metadata": {},
   "outputs": [
    {
     "name": "stdout",
     "output_type": "stream",
     "text": [
      "Fahrenheit =%0.2f 300 \n",
      "Kelvin = 422.0388888888889 \n",
      "Celcius = 148.88888888888889\n"
     ]
    }
   ],
   "source": [
    "fahrenheit = 300\n",
    "kelvin = 0\n",
    "celcius = 0\n",
    "celcius = (fahrenheit - 32) * (5/9)\n",
    "kelvin = celcius +273.15\n",
    "\n",
    "print (\"Fahrenheit =\",fahrenheit,\"\\nKelvin =\",kelvin,\"\\nCelcius =\",celcius)"
   ]
  },
  {
   "cell_type": "markdown",
   "metadata": {},
   "source": [
    "### Question 6:\n",
    "Write a program to demonstrate all the available data types in Python. Hint: Use type() function."
   ]
  },
  {
   "cell_type": "code",
   "execution_count": 24,
   "metadata": {},
   "outputs": [
    {
     "name": "stdout",
     "output_type": "stream",
     "text": [
      "<class 'int'>\n",
      "<class 'float'>\n",
      "<class 'complex'>\n",
      "<class 'str'>\n",
      "<class 'list'>\n",
      "<class 'tuple'>\n",
      "<class 'dict'>\n",
      "<class 'set'>\n",
      "<class 'bool'>\n",
      "<class 'range'>\n"
     ]
    }
   ],
   "source": [
    "print(type(10))\n",
    "print(type(99.99))\n",
    "print(type(4+37j))\n",
    "print(type(\"LetsUpgrade\"))\n",
    "print(type([1,2,3,4]))\n",
    "print(type(('a','b','c','d')))\n",
    "print(type({1:\"one\", 2:\"two\", 3:\"three\"}))\n",
    "print(type({ 1,3,6,5,7,89,3}))\n",
    "print(type(True))\n",
    "print(type(range(10)))"
   ]
  },
  {
   "cell_type": "markdown",
   "metadata": {},
   "source": [
    "### Question 7:\n",
    "Create a Markdown cell in jupyter and list the steps discussed in the session by Dr. Darshan\n",
    "Ingle sir to create Github profile and upload Githubs Assignment link."
   ]
  },
  {
   "cell_type": "markdown",
   "metadata": {},
   "source": [
    "### Answer:\n",
    "- Create github account and login to github account from  URL www.github.com\n",
    "- Go to repository section and click new to create new repository.\n",
    "- Name the repository as \"LetsUpgrade AI-ML\"\n",
    "- Add description as Assignments\n",
    "- Make sure to keep the repository public.\n",
    "- Scroll down and click on create repository.\n",
    "- Go to your system/Desktop and create a folder named as Day3.\n",
    "- Inside Day3 folder create new .ipynb file and write your assignment codes inside .ipynb file and save.\n",
    "- Go back to your github and click on \"LetsUpgrade AI-ML\" repository.\n",
    "- Drag folder Day3 and drop on the \"LetsUpgrade AI-ML\" repository in browser from your desktop.\n",
    "- Once files are added click on commit changes.\n",
    "- Now browse inside the Day3 folder of \"LetsUpgrade AI-ML\" repository and copy URL from the browser.\n",
    "- Go to \"Assignment Submit Form : https://bit.ly/aimlassignment \" (google form).\n",
    "- Enter Registered E-mail, Name, Phone Number and paste the copied github URL in the \"Give Github URL\" section and click submit."
   ]
  },
  {
   "cell_type": "code",
   "execution_count": null,
   "metadata": {},
   "outputs": [],
   "source": []
  }
 ],
 "metadata": {
  "kernelspec": {
   "display_name": "Python 3",
   "language": "python",
   "name": "python3"
  },
  "language_info": {
   "codemirror_mode": {
    "name": "ipython",
    "version": 3
   },
   "file_extension": ".py",
   "mimetype": "text/x-python",
   "name": "python",
   "nbconvert_exporter": "python",
   "pygments_lexer": "ipython3",
   "version": "3.7.4"
  }
 },
 "nbformat": 4,
 "nbformat_minor": 2
}
