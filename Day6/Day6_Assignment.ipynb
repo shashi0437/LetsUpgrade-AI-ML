{
 "cells": [
  {
   "cell_type": "markdown",
   "metadata": {},
   "source": [
    "### Question 1:\n",
    "Assuming that we have some email addresses in the \"username@companyname.com\" format, please write program\n",
    "to print the company name of a given email address. Both user names and company names are composed of letters\n",
    "only.\n",
    "Input Format:\n",
    "The first line of the input contains an email address.\n",
    "Output Format:\n",
    "Print the company name in single line.\n",
    "Example;\n",
    "Input:\n",
    "john@google.com\n",
    "Output:\n",
    "google\n"
   ]
  },
  {
   "cell_type": "code",
   "execution_count": 14,
   "metadata": {},
   "outputs": [
    {
     "name": "stdout",
     "output_type": "stream",
     "text": [
      "input:\n",
      "john@google.com\n",
      "Output:\n",
      "google\n"
     ]
    }
   ],
   "source": [
    "name = input(\"input:\\n\")\n",
    "comp_list = name.split('@')\n",
    "comp = comp_list[1].split('.')\n",
    "comp=comp[0]\n",
    "print(\"Output:\\n\"+comp)"
   ]
  },
  {
   "cell_type": "markdown",
   "metadata": {},
   "source": [
    "### Question 2:\n",
    "Write a program that accepts a comma-separated sequence of words as input and prints the words in a comma\n",
    "separated sequence after sorting them alphabetically.\n",
    "Input Format:\n",
    "The first line of input contains words separated by the comma.\n",
    "Output Format:\n",
    "Print the sorted words separated by the comma.\n",
    "Example:\n",
    "Input:\n",
    "without,hello,bag,world\n",
    "Output:\n",
    "bag,hello,without,world"
   ]
  },
  {
   "cell_type": "code",
   "execution_count": 29,
   "metadata": {},
   "outputs": [
    {
     "name": "stdout",
     "output_type": "stream",
     "text": [
      "input:\n",
      "without,hello,bag,world\n",
      "Output:\n",
      "bag,hello,without,world\n"
     ]
    }
   ],
   "source": [
    "x=input(\"input:\\n\")\n",
    "y = x.split(',')\n",
    "y = sorted(y)\n",
    "final=''\n",
    "for i in y:\n",
    "    final+=(\",\"+i)\n",
    "\n",
    "final = final[1:]\n",
    "print(\"Output:\\n\"+final)\n",
    "\n"
   ]
  },
  {
   "cell_type": "markdown",
   "metadata": {},
   "source": [
    "### Question 3:\n",
    "Create your own Jupyter Notebook for Sets.\n",
    "\n",
    "Reference link: https://www.w3schools.com/python/python_sets.asp"
   ]
  },
  {
   "cell_type": "code",
   "execution_count": 126,
   "metadata": {},
   "outputs": [
    {
     "data": {
      "text/plain": [
       "{(1, 3, 4), 0.342, 1, 'one'}"
      ]
     },
     "execution_count": 126,
     "metadata": {},
     "output_type": "execute_result"
    }
   ],
   "source": [
    "set1 = {1,'one',0.342,(1,3,4)}\n",
    "set1"
   ]
  },
  {
   "cell_type": "code",
   "execution_count": 127,
   "metadata": {},
   "outputs": [
    {
     "data": {
      "text/plain": [
       "{(1, 3, 4), 0.342, 1, 'Scientist', 'data', 'one', 'orange', 'shashidhar'}"
      ]
     },
     "execution_count": 127,
     "metadata": {},
     "output_type": "execute_result"
    }
   ],
   "source": [
    "#Add Items\n",
    "\n",
    "set1.add(\"orange\")\n",
    "#Add multiple items to set\n",
    "\n",
    "set1.update([\"shashidhar\",\"data\",\"Scientist\"])\n",
    "set1"
   ]
  },
  {
   "cell_type": "code",
   "execution_count": 128,
   "metadata": {},
   "outputs": [
    {
     "name": "stdout",
     "output_type": "stream",
     "text": [
      "8\n"
     ]
    }
   ],
   "source": [
    "#To determine how many items a set has\n",
    "print(len(set1))"
   ]
  },
  {
   "cell_type": "code",
   "execution_count": 129,
   "metadata": {},
   "outputs": [
    {
     "data": {
      "text/plain": [
       "{(1, 3, 4), 1, 'Scientist', 'data', 'orange', 'shashidhar'}"
      ]
     },
     "execution_count": 129,
     "metadata": {},
     "output_type": "execute_result"
    }
   ],
   "source": [
    "#Remove Item\n",
    "set1.remove('one')\n",
    "set1.discard(0.342)\n",
    "set1"
   ]
  },
  {
   "cell_type": "code",
   "execution_count": 130,
   "metadata": {},
   "outputs": [
    {
     "data": {
      "text/plain": [
       "{(1, 3, 4), 'Scientist', 'data', 'orange', 'shashidhar'}"
      ]
     },
     "execution_count": 130,
     "metadata": {},
     "output_type": "execute_result"
    }
   ],
   "source": [
    "copy_set= set1\n",
    "#Remove the last item by using the pop() method:\n",
    "copy_set.pop()\n",
    "copy_set"
   ]
  },
  {
   "cell_type": "code",
   "execution_count": 136,
   "metadata": {},
   "outputs": [
    {
     "data": {
      "text/plain": [
       "set()"
      ]
     },
     "execution_count": 136,
     "metadata": {},
     "output_type": "execute_result"
    }
   ],
   "source": [
    "set2 = {1,'one',0.342,(1,3,4)}\n",
    "set2.clear()\n",
    "set2"
   ]
  },
  {
   "cell_type": "code",
   "execution_count": 137,
   "metadata": {},
   "outputs": [],
   "source": [
    "#The del keyword will delete the set completely:\n",
    "del set2\n",
    "# print(set2)  ===> Throws error as set2 variable is deleted"
   ]
  },
  {
   "cell_type": "code",
   "execution_count": 142,
   "metadata": {},
   "outputs": [],
   "source": [
    "set2 = {1, 2, 3}\n",
    "set3 = {'a','b','c','d',3}"
   ]
  },
  {
   "cell_type": "code",
   "execution_count": 143,
   "metadata": {},
   "outputs": [
    {
     "name": "stdout",
     "output_type": "stream",
     "text": [
      "{1, 2, 3, 'b', 'a', 'c', 'd'}\n"
     ]
    }
   ],
   "source": [
    "#Union of two set\n",
    "print(set2.union(set3))"
   ]
  },
  {
   "cell_type": "code",
   "execution_count": 144,
   "metadata": {},
   "outputs": [
    {
     "name": "stdout",
     "output_type": "stream",
     "text": [
      "{3}\n"
     ]
    }
   ],
   "source": [
    "#Intersection of two set\n",
    "print(set2.intersection(set3))"
   ]
  },
  {
   "cell_type": "markdown",
   "metadata": {},
   "source": [
    "### Question 4:\n",
    "Given a list of n-1 numbers ranging from 1 to n, your task is to find the missing number. There are no duplicates.\n",
    "\n",
    "Input Format:\n",
    "\n",
    "The first line contains n-1 numbers with each number separated by a space.\n",
    "\n",
    "Output Format:\n",
    "\n",
    "Print the missing number\n",
    "\n",
    "Example:\n",
    "\n",
    "Input:\n",
    "\n",
    "1 2 4 6 3 7 8\n",
    "\n",
    "Output:5\n",
    "\n",
    "Explanation:\n",
    "\n",
    "In the above list of numbers 5 is missing and hence 5 is the input"
   ]
  },
  {
   "cell_type": "code",
   "execution_count": 83,
   "metadata": {},
   "outputs": [
    {
     "name": "stdout",
     "output_type": "stream",
     "text": [
      "input:\n",
      "1 2 3 4 5 6\n",
      "Output:\n",
      "7\n"
     ]
    }
   ],
   "source": [
    "x=input(\"Input:\\n\")\n",
    "x= x.split(' ')\n",
    "new_x=[]\n",
    "for i in x:\n",
    "    new_x.append(int(i))\n",
    "maxn = len(new_x)+2\n",
    "for i in range(1, maxn):\n",
    "    if i not in new_x:\n",
    "        res=i\n",
    "print('Output:')\n",
    "print(res)"
   ]
  },
  {
   "cell_type": "markdown",
   "metadata": {},
   "source": [
    "### Question 5:\n",
    "With a given list L, write a program to print this list L after removing all duplicate values with original order reserved.\n",
    "\n",
    "Example:\n",
    "\n",
    "If the input list is\n",
    "\n",
    "12 24 35 24 88 120 155 88 120 155\n",
    "\n",
    "Then the output should be\n",
    "\n",
    "12 24 35 88 120 155\n",
    "\n",
    "Explanation:\n",
    "\n",
    "Third, seventh and ninth element of the list L has been removed because it was already present.\n",
    "\n",
    "Input Format:\n",
    "\n",
    "In one line take the elements of the list L with each element separated by a space.\n",
    "\n",
    "Output Format:\n",
    "\n",
    "\n",
    "\n",
    "Print the elements of the modified list in one line with each element separated by a space.\n",
    "\n",
    "Example:\n",
    "\n",
    "Input: 12 24 35 24\n",
    "\n",
    "Output:\n",
    "\n",
    "12 24 35\n"
   ]
  },
  {
   "cell_type": "code",
   "execution_count": 98,
   "metadata": {},
   "outputs": [
    {
     "name": "stdout",
     "output_type": "stream",
     "text": [
      "Input:\n",
      "12 24 35 24 88 120 155 88 120 155\n",
      "Output:\n",
      "12 24 35 88 120 155\n"
     ]
    }
   ],
   "source": [
    "x = input(\"Input:\\n\").split(' ')\n",
    "res=[]\n",
    "for i in x:\n",
    "    if i not in res:\n",
    "        res.append(i)\n",
    "final=\" \".join(res)\n",
    "print(\"Output:\\n\"+final)"
   ]
  }
 ],
 "metadata": {
  "kernelspec": {
   "display_name": "Python 3",
   "language": "python",
   "name": "python3"
  },
  "language_info": {
   "codemirror_mode": {
    "name": "ipython",
    "version": 3
   },
   "file_extension": ".py",
   "mimetype": "text/x-python",
   "name": "python",
   "nbconvert_exporter": "python",
   "pygments_lexer": "ipython3",
   "version": "3.7.4"
  },
  "latex_envs": {
   "LaTeX_envs_menu_present": true,
   "autoclose": false,
   "autocomplete": true,
   "bibliofile": "biblio.bib",
   "cite_by": "apalike",
   "current_citInitial": 1,
   "eqLabelWithNumbers": true,
   "eqNumInitial": 1,
   "hotkeys": {
    "equation": "Ctrl-E",
    "itemize": "Ctrl-I"
   },
   "labels_anchors": false,
   "latex_user_defs": false,
   "report_style_numbering": false,
   "user_envs_cfg": false
  }
 },
 "nbformat": 4,
 "nbformat_minor": 2
}
